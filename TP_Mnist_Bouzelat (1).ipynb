{
  "nbformat": 4,
  "nbformat_minor": 0,
  "metadata": {
    "colab": {
      "provenance": []
    },
    "kernelspec": {
      "name": "python3",
      "display_name": "Python 3"
    },
    "language_info": {
      "name": "python"
    }
  },
  "cells": [
    {
      "cell_type": "markdown",
      "source": [
        "#imports"
      ],
      "metadata": {
        "id": "fcTtDCgWxp5A"
      }
    },
    {
      "cell_type": "code",
      "execution_count": 1,
      "metadata": {
        "id": "UVnwYhORwIHI"
      },
      "outputs": [],
      "source": [
        "import tensorflow as tf\n",
        "import matplotlib.pyplot as plt\n",
        "%matplotlib inline \n",
        "import numpy as np\n",
        "from sklearn.metrics import confusion_matrix\n",
        "import seaborn as sns \n",
        "np.random.seed(0) \n",
        "import tensorflow as tf\n",
        "from keras.models import Sequential\n",
        "from keras.layers import Dense, Dropout"
      ]
    },
    {
      "cell_type": "markdown",
      "source": [
        "#dataset"
      ],
      "metadata": {
        "id": "2Aef1bJjxtBx"
      }
    },
    {
      "cell_type": "code",
      "source": [
        "# Chargement des données MNIST\n",
        "(x_train, y_train), (x_test, y_test) = tf.keras.datasets.mnist.load_data()\n",
        "\n",
        "#convertir les images en noire sur blanc \n",
        "x_train = 255 - x_train\n",
        "x_test = 255 - x_test\n",
        "\n",
        "# Convertir les pixels de [0, 255] a [0, 1]\n",
        "x_train = x_train / 255\n",
        "x_test = x_test / 255\n",
        "\n",
        "# supprimer les niveau de gris tout ce qui est dessus de 128 est considerer comme blanc et tt ce qui \n",
        "# en dessous de 128 considirer comme noire \n",
        "x_train = (x_train > 0.5).astype(np.uint8)\n",
        "x_test = (x_test > 0.5).astype(np.uint8)\n",
        "\n",
        "#print(x_train[0])\n",
        "\n",
        "#shape pour x_train et y_train // x_test et y_test // (60000, 28, 28) (60000,) // (10000, 28, 28) (10000,)\n",
        "print(\"shape de data set x train et y train x test et y test\")\n",
        "print(x_train.shape , y_train.shape)\n",
        "print(x_test.shape , y_test.shape)\n",
        "\n",
        "print(\"_________________________________________\")\n",
        "\n",
        "# Sélection des exemples de chiffres 5 dans les données d'entraînement et de test\n",
        "\n",
        "x_train_5 = x_train[y_train == 5]\n",
        "y_train_5 = y_train[y_train == 5]\n",
        "x_test_5 = x_test[y_test == 5]\n",
        "y_test_5 = y_test[y_test == 5]\n",
        "\n",
        "#shape pour x_train_5 et y_train_5 // x_test_5 et y_test_5 // (5421, 28, 28) (5421,) // (892, 28, 28) (892,)\n",
        "print(\"shape de data set x train de 5 et y train de 5 x test et y test\")\n",
        "print(x_train_5.shape , y_train_5.shape)\n",
        "\n",
        "print(x_test_5.shape , y_test_5.shape)\n",
        "\n",
        "print(\"_________________________________________\")\n",
        "\n",
        "# deviser chaque images de dataset train et test en 16 parties de 7*7 pixels \n",
        "x_train_regions = []\n",
        "x_test_regions = []\n",
        "\n",
        "for i in range(x_train.shape[0]):\n",
        "    regions = [x_train[i, x:x+7, y:y+7] for x in range(0, 28, 7) for y in range(0, 28, 7)]\n",
        "    x_train_regions.append(regions)\n",
        "    \n",
        "for i in range(x_test.shape[0]):\n",
        "    regions = [x_test[i, x:x+7, y:y+7] for x in range(0, 28, 7) for y in range(0, 28, 7)]\n",
        "    x_test_regions.append(regions)\n",
        "    \n",
        "# mettre les nouvelle liste sous forme d'un vecteur \n",
        "x_train_regions = np.array(x_train_regions)\n",
        "x_test_regions = np.array(x_test_regions)\n",
        "\n",
        "#shape de region\n",
        "print(\"shape de regions \")\n",
        "print(x_train_regions.shape , y_train.shape)\n",
        "print(x_test_regions.shape , y_test.shape)\n",
        "\n",
        "print(\"_________________________________________\")\n",
        "  \n",
        "# traitement d'image ou calculé le pourcentage du noire sur chaque partie de 7*7 pixels\n",
        "x_train_percentages = []\n",
        "x_test_percentages = []\n",
        "\n",
        "for i in range(x_train_regions.shape[0]):\n",
        "    percentages = [[np.mean(region == 0) for region in row] for row in np.split(x_train_regions[i], 4)]\n",
        "    x_train_percentages.append(percentages)\n",
        "    \n",
        "for i in range(x_test_regions.shape[0]):\n",
        "    percentages = [[np.mean(region == 0) for region in row] for row in np.split(x_test_regions[i], 4)]\n",
        "    x_test_percentages.append(percentages)\n",
        "\n",
        "# convertir le pourcentage en vecteur \n",
        "x_train_percentages = np.array(x_train_percentages)\n",
        "x_test_percentages = np.array(x_test_percentages)\n",
        "\n",
        "#shape de pourcentage\n",
        "print(\"shape de pourcentage\")\n",
        "print(x_train_percentages.shape)\n",
        "print(x_test_percentages.shape)\n",
        "\n",
        "print(\"_________________________________________\")\n",
        "print(\"exemple d'une matrice de 16 partie avec du pourcentage \")\n",
        "print(x_train_percentages[3])\n",
        "print(\"_________________________________________\")\n",
        "\n",
        "\n",
        "#juste pour voire un des libelles de 5 \n",
        "print(\"Label : \",y_train_5[2])"
      ],
      "metadata": {
        "colab": {
          "base_uri": "https://localhost:8080/"
        },
        "id": "qenYDoYZwOK0",
        "outputId": "ca8ca6ea-885c-42d9-c48a-a8e7b8e855c7"
      },
      "execution_count": 2,
      "outputs": [
        {
          "output_type": "stream",
          "name": "stdout",
          "text": [
            "Downloading data from https://storage.googleapis.com/tensorflow/tf-keras-datasets/mnist.npz\n",
            "11490434/11490434 [==============================] - 0s 0us/step\n",
            "shape de data set x train et y train x test et y test\n",
            "(60000, 28, 28) (60000,)\n",
            "(10000, 28, 28) (10000,)\n",
            "_________________________________________\n",
            "shape de data set x train de 5 et y train de 5 x test et y test\n",
            "(5421, 28, 28) (5421,)\n",
            "(892, 28, 28) (892,)\n",
            "_________________________________________\n",
            "shape de regions \n",
            "(60000, 16, 7, 7) (60000,)\n",
            "(10000, 16, 7, 7) (10000,)\n",
            "_________________________________________\n",
            "shape de pourcentage\n",
            "(60000, 4, 4)\n",
            "(10000, 4, 4)\n",
            "_________________________________________\n",
            "exemple d'une matrice de 16 partie avec du pourcentage \n",
            "[[0.         0.         0.10204082 0.        ]\n",
            " [0.         0.         0.44897959 0.        ]\n",
            " [0.         0.40816327 0.12244898 0.        ]\n",
            " [0.         0.26530612 0.         0.        ]]\n",
            "_________________________________________\n",
            "Label :  5\n"
          ]
        }
      ]
    },
    {
      "cell_type": "code",
      "source": [
        "# Affichage une des images à l'aide de Matplotlib\n",
        "\n",
        "plt.imshow(x_train[3], cmap='gray')\n",
        "plt.show()"
      ],
      "metadata": {
        "colab": {
          "base_uri": "https://localhost:8080/",
          "height": 430
        },
        "id": "wmi_QY_x2F2A",
        "outputId": "0a64c100-bce8-4e41-f9cc-037221e1144c"
      },
      "execution_count": 3,
      "outputs": [
        {
          "output_type": "display_data",
          "data": {
            "text/plain": [
              "<Figure size 640x480 with 1 Axes>"
            ],
            "image/png": "[encoded data removed]"
          },
          "metadata": {}
        }
      ]
    },
    {
      "cell_type": "markdown",
      "source": [
        "#Neural Net"
      ],
      "metadata": {
        "id": "bl6GL67uxwu5"
      }
    },
    {
      "cell_type": "code",
      "source": [
        "from keras.layers import Flatten\n",
        "tf.compat.v1.reset_default_graph()\n",
        "\n",
        "model = Sequential()\n",
        "\n",
        "model.add(Flatten(input_shape=(4,4)))\n",
        "model.add(Dense(16, activation='relu'))\n",
        "model.add(Dense(16, activation='relu'))\n",
        "model.add(Dropout(0.2))\n",
        "model.add(Dense(16, activation='relu'))\n",
        "model.add(Dropout(0.2))\n",
        "model.add(Dense(units=1, activation='sigmoid'))\n",
        "\n",
        "model.compile(loss='binary_crossentropy', optimizer='adam', metrics=['accuracy'])\n",
        "\n",
        "model.summary()\n",
        "\n"
      ],
      "metadata": {
        "colab": {
          "base_uri": "https://localhost:8080/"
        },
        "id": "iOvdGltUwTjg",
        "outputId": "b45c476b-8ac5-4536-ae26-24c57232d60a"
      },
      "execution_count": 6,
      "outputs": [
        {
          "output_type": "stream",
          "name": "stdout",
          "text": [
            "Model: \"sequential\"\n",
            "_________________________________________________________________\n",
            " Layer (type)                Output Shape              Param #   \n",
            "=================================================================\n",
            " flatten (Flatten)           (None, 16)                0         \n",
            "                                                                 \n",
            " dense (Dense)               (None, 16)                272       \n",
            "                                                                 \n",
            " dense_1 (Dense)             (None, 16)                272       \n",
            "                                                                 \n",
            " dropout (Dropout)           (None, 16)                0         \n",
            "                                                                 \n",
            " dense_2 (Dense)             (None, 16)                272       \n",
            "                                                                 \n",
            " dropout_1 (Dropout)         (None, 16)                0         \n",
            "                                                                 \n",
            " dense_3 (Dense)             (None, 1)                 17        \n",
            "                                                                 \n",
            "=================================================================\n",
            "Total params: 833\n",
            "Trainable params: 833\n",
            "Non-trainable params: 0\n",
            "_________________________________________________________________\n"
          ]
        }
      ]
    },
    {
      "cell_type": "markdown",
      "source": [
        "#fit \n"
      ],
      "metadata": {
        "id": "_uosp8dyx16V"
      }
    },
    {
      "cell_type": "code",
      "source": [
        "# Entraînement du modèle\n",
        "# on passe ici les resultat des pourcentage obtenue x_train_percentages comme train pour notre modele \n",
        "x_train_5_percentages = x_train_percentages[y_train == 5]\n",
        "y_train_5_only = np.ones(x_train_5_percentages.shape[0])  # set the output to 1 for all 5s\n",
        "\n",
        "history = model.fit(x_train_percentages, y_train, epochs=5, batch_size=32, validation_split=0.2)\n",
        "\n",
        "\"test_loss, test_acc = model.evaluate(x_test_percentages, y_test_5)\"\n",
        "\n",
        "\"print('Test accuracy:', test_acc)\"\n",
        "\n"
      ],
      "metadata": {
        "colab": {
          "base_uri": "https://localhost:8080/",
          "height": 229
        },
        "id": "JGSjtJe_wXPY",
        "outputId": "445b9117-f753-4b94-bc46-370f7145ef8b"
      },
      "execution_count": 7,
      "outputs": [
        {
          "output_type": "stream",
          "name": "stdout",
          "text": [
            "Epoch 1/5\n",
            "1500/1500 [==============================] - 5s 3ms/step - loss: -305303.6562 - accuracy: 0.1139 - val_loss: -1472978.2500 - val_accuracy: 0.1060\n",
            "Epoch 2/5\n",
            "1500/1500 [==============================] - 3s 2ms/step - loss: -7458687.0000 - accuracy: 0.1140 - val_loss: -17262464.0000 - val_accuracy: 0.1060\n",
            "Epoch 3/5\n",
            "1500/1500 [==============================] - 3s 2ms/step - loss: -37853800.0000 - accuracy: 0.1140 - val_loss: -65003560.0000 - val_accuracy: 0.1060\n",
            "Epoch 4/5\n",
            "1500/1500 [==============================] - 3s 2ms/step - loss: -108872312.0000 - accuracy: 0.1140 - val_loss: -162095680.0000 - val_accuracy: 0.1060\n",
            "Epoch 5/5\n",
            "1500/1500 [==============================] - 4s 2ms/step - loss: -237636400.0000 - accuracy: 0.1140 - val_loss: -326820928.0000 - val_accuracy: 0.1060\n"
          ]
        },
        {
          "output_type": "execute_result",
          "data": {
            "text/plain": [
              "\"print('Test accuracy:', test_acc)\""
            ],
            "application/vnd.google.colaboratory.intrinsic+json": {
              "type": "string"
            }
          },
          "metadata": {},
          "execution_count": 7
        }
      ]
    },
    {
      "cell_type": "markdown",
      "source": [
        "#evaluation"
      ],
      "metadata": {
        "id": "_1wfvUZOx4PZ"
      }
    },
    {
      "cell_type": "code",
      "source": [
        "test_loss , test_acc = model.evaluate(x_test_percentages,y_test)\n",
        "print(\"test loss = {}, test accuracy ={}\".format(test_loss,test_acc))"
      ],
      "metadata": {
        "colab": {
          "base_uri": "https://localhost:8080/"
        },
        "id": "HUD-_81BxoxQ",
        "outputId": "b1866b8c-a2eb-4ce2-dd85-0bf43d15b4bd"
      },
      "execution_count": null,
      "outputs": [
        {
          "output_type": "stream",
          "name": "stdout",
          "text": [
            "313/313 [==============================] - 1s 1ms/step - loss: -451551680.0000 - accuracy: 0.1135\n",
            "test loss = -451551680.0, test accuracy =0.11349999904632568\n"
          ]
        }
      ]
    }
  ]
}